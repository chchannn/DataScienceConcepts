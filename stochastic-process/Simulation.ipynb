{
 "cells": [
  {
   "cell_type": "code",
   "execution_count": 1,
   "metadata": {},
   "outputs": [],
   "source": [
    "import random\n",
    "import matplotlib.pyplot as plt\n",
    "import numpy as np\n",
    "\n",
    "%matplotlib inline\n",
    "\n",
    "random.seed(117)"
   ]
  },
  {
   "cell_type": "code",
   "execution_count": 2,
   "metadata": {},
   "outputs": [],
   "source": [
    "plt.rcParams.update(\n",
    "    {\n",
    "        'lines.linewidth': 2,\n",
    "        'axes.titlesize': 10,\n",
    "        'axes.labelsize': 10,\n",
    "        'xtick.labelsize': 8,\n",
    "        'ytick.labelsize': 8,\n",
    "        'xtick.major.size': 7,\n",
    "        'ytick.major.size': 7,\n",
    "        'legend.numpoints': 1,\n",
    "    }\n",
    ")"
   ]
  },
  {
   "cell_type": "code",
   "execution_count": 3,
   "metadata": {},
   "outputs": [],
   "source": [
    "class styleIterator(object):\n",
    "    def __init__(self, styles):\n",
    "        self.index = 0\n",
    "        self.styles = styles\n",
    "\n",
    "    def nextStyle(self):\n",
    "        result = self.styles[self.index]\n",
    "        if self.index == len(self.styles) - 1:\n",
    "            self.index = 0\n",
    "        else:\n",
    "            self.index += 1\n",
    "        return result"
   ]
  },
  {
   "cell_type": "markdown",
   "metadata": {},
   "source": [
    "# stochastic process\n",
    "\n",
    "example: roll a die, to calculate the probability to get '11111', what would you do?"
   ]
  },
  {
   "cell_type": "code",
   "execution_count": 4,
   "metadata": {},
   "outputs": [],
   "source": [
    "def rollDie():\n",
    "    \"\"\"returns a random int between 1 and 6\"\"\"\n",
    "    return random.choice([1,2,3,4,5,6])  # equally probable to chose a number\n",
    "\n",
    "def testRoll(n=10):\n",
    "    restult = ''\n",
    "    for i in range(n):\n",
    "        result = result + str(rollDie())\n",
    "    print(result)"
   ]
  },
  {
   "cell_type": "code",
   "execution_count": 5,
   "metadata": {},
   "outputs": [],
   "source": [
    "def runSim(goal, numTrials, txt):\n",
    "    total = 0\n",
    "    for i in range(numTrials):\n",
    "        result = ''\n",
    "        for j in range(len(goal)):\n",
    "            result += str(rollDie())\n",
    "        if result == goal:\n",
    "            total += 1\n",
    "        print('Actual probability of', txt, '=', round(1/(6**len(goal)), 8))\n",
    "        estProbability =round(total/numTrials, 8)\n",
    "        print('Estimated Probability of', txt, '=', round(estProbability, 8))"
   ]
  },
  {
   "cell_type": "code",
   "execution_count": 6,
   "metadata": {},
   "outputs": [],
   "source": [
    "# runSim('11111', 100, '11111')"
   ]
  },
  {
   "cell_type": "markdown",
   "metadata": {},
   "source": [
    "# Random walks\n",
    "\n",
    "How far away the drunk will be after 1 step?\n",
    "How far away the drunk will be after 2 steps?\n",
    "How far away the drunk will be after 1000 steps?\n",
    "How far away the drunk will be after n steps?"
   ]
  },
  {
   "cell_type": "code",
   "execution_count": 7,
   "metadata": {},
   "outputs": [],
   "source": [
    "class Location(object):\n",
    "    def __init__(self, x, y):\n",
    "        \"\"\"x and y are numbers\"\"\"\n",
    "        self.x = x\n",
    "        self.y = y\n",
    "\n",
    "    def move(self, deltaX, deltaY):\n",
    "        \"\"\"deltaX and deltaY are numbers\"\"\"\n",
    "        return Location(self.x + deltaX, self.y + deltaY)\n",
    "\n",
    "    def getX(self):\n",
    "        return self.x\n",
    "\n",
    "    def getY(self):\n",
    "        return self.y\n",
    "\n",
    "    def distFrom(self, other):\n",
    "        xDist = self.x - other.getX()\n",
    "        yDist = self.y - other.getY()\n",
    "        return (xDist**2 + yDist**2)**0.5 # Pythagorean theorem\n",
    "\n",
    "    def __str__(self):\n",
    "        return '<' + str(self.x) + ', ' + str(self.y) + '>'"
   ]
  },
  {
   "cell_type": "code",
   "execution_count": 8,
   "metadata": {},
   "outputs": [],
   "source": [
    "class Field(object):\n",
    "    def __init__(self):\n",
    "        self.drunks = {}\n",
    "        \n",
    "    def addDrunk(self, drunk, loc):\n",
    "        if drunk in self.drunks:\n",
    "            raise ValueError('Duplicate drunk')\n",
    "        else:\n",
    "            self.drunks[drunk] = loc\n",
    "            \n",
    "    def moveDrunk(self, drunk):\n",
    "        if drunk not in self.drunks:\n",
    "            raise ValueError('Drunk not in field')\n",
    "        xDist, yDist = drunk.takeStep()\n",
    "        #use move method of Location to get new location\n",
    "        self.drunks[drunk] = self.drunks[drunk].move(xDist, yDist)\n",
    "        \n",
    "    def getLoc(self, drunk):\n",
    "        if drunk not in self.drunks:\n",
    "            raise ValueError('Drunk not in field')\n",
    "        return self.drunks[drunk]"
   ]
  },
  {
   "cell_type": "code",
   "execution_count": 9,
   "metadata": {},
   "outputs": [],
   "source": [
    "class Drunk(object):\n",
    "    def __init__(self, name = None):\n",
    "        \"\"\"Assumes name is a str\"\"\"\n",
    "        self.name = name\n",
    "\n",
    "    def __str__(self):\n",
    "        if self != None:\n",
    "            return self.name\n",
    "        return 'Anonymous'"
   ]
  },
  {
   "cell_type": "code",
   "execution_count": 10,
   "metadata": {},
   "outputs": [],
   "source": [
    "class UsualDrunk(Drunk):\n",
    "    def takeStep(self):\n",
    "        stepChoices = [(0,1), (0,-1), (1, 0), (-1, 0)]\n",
    "        return random.choice(stepChoices)"
   ]
  },
  {
   "cell_type": "code",
   "execution_count": 11,
   "metadata": {},
   "outputs": [],
   "source": [
    "class MasochistDrunk(Drunk):\n",
    "    def takeStep(self):\n",
    "        stepChoices = [(0.0,1.1), (0.0,-0.9),\n",
    "                       (1.0, 0.0), (-1.0, 0.0)]\n",
    "        return random.choice(stepChoices)"
   ]
  },
  {
   "cell_type": "code",
   "execution_count": 12,
   "metadata": {},
   "outputs": [],
   "source": [
    "def walk(f, d, numSteps):\n",
    "    \"\"\"Assumes: f a Field, d a Drunk in f, and numSteps an int >= 0.\n",
    "       Moves d numSteps times, and returns the distance between\n",
    "       the final location and the location at the start of the \n",
    "       walk.\"\"\"\n",
    "    start = f.getLoc(d)\n",
    "    for s in range(numSteps):\n",
    "        f.moveDrunk(d)\n",
    "    return start.distFrom(f.getLoc(d))"
   ]
  },
  {
   "cell_type": "code",
   "execution_count": 13,
   "metadata": {},
   "outputs": [],
   "source": [
    "def simWalks(numSteps, numTrials, dClass):\n",
    "    \"\"\"Assumes numSteps an int >= 0, numTrials an int > 0,\n",
    "         dClass a subclass of Drunk\n",
    "       Simulates numTrials walks of numSteps steps each.\n",
    "       Returns a list of the final distances for each trial\"\"\"\n",
    "    Homer = dClass('Homer')\n",
    "    origin = Location(0, 0)\n",
    "    distances = []\n",
    "    for t in range(numTrials):\n",
    "        f = Field()\n",
    "        f.addDrunk(Homer, origin)\n",
    "        distances.append(round(walk(f, Homer,\n",
    "                                    numSteps), 1))\n",
    "    return distances"
   ]
  },
  {
   "cell_type": "code",
   "execution_count": 14,
   "metadata": {},
   "outputs": [],
   "source": [
    "def drunkTest(walkLengths, numTrials, dClass):\n",
    "    \"\"\"Assumes walkLengths a sequence of ints >= 0\n",
    "         numTrials an int > 0, dClass a subclass of Drunk\n",
    "       For each number of steps in walkLengths, runs simWalks with\n",
    "         numTrials walks and prints results\"\"\"\n",
    "    for numSteps in walkLengths:\n",
    "        distances = simWalks(numSteps, numTrials, dClass)\n",
    "        print(dClass.__name__, 'random walk of', numSteps, 'steps')\n",
    "        print(' Mean =', round(sum(distances)/len(distances), 4))\n",
    "        print(' Max =', max(distances), 'Min =', min(distances))"
   ]
  },
  {
   "cell_type": "markdown",
   "metadata": {},
   "source": [
    "simulation for two different drunks"
   ]
  },
  {
   "cell_type": "code",
   "execution_count": 15,
   "metadata": {},
   "outputs": [
    {
     "name": "stdout",
     "output_type": "stream",
     "text": [
      "UsualDrunk random walk of 10 steps\n",
      " Mean = 2.816\n",
      " Max = 7.1 Min = 0.0\n",
      "UsualDrunk random walk of 100 steps\n",
      " Mean = 9.178\n",
      " Max = 24.1 Min = 1.4\n",
      "UsualDrunk random walk of 1000 steps\n",
      " Mean = 28.377\n",
      " Max = 77.8 Min = 1.4\n",
      "UsualDrunk random walk of 10000 steps\n",
      " Mean = 86.703\n",
      " Max = 189.8 Min = 9.5\n"
     ]
    }
   ],
   "source": [
    "drunkTest((10, 100, 1000, 10000), 100, UsualDrunk)"
   ]
  },
  {
   "cell_type": "code",
   "execution_count": 16,
   "metadata": {},
   "outputs": [
    {
     "name": "stdout",
     "output_type": "stream",
     "text": [
      "MasochistDrunk random walk of 10 steps\n",
      " Mean = 2.506\n",
      " Max = 5.6 Min = 0.2\n",
      "MasochistDrunk random walk of 100 steps\n",
      " Mean = 9.729\n",
      " Max = 20.5 Min = 1.1\n",
      "MasochistDrunk random walk of 1000 steps\n",
      " Mean = 57.406\n",
      " Max = 105.2 Min = 11.3\n",
      "MasochistDrunk random walk of 10000 steps\n",
      " Mean = 507.349\n",
      " Max = 655.6 Min = 344.1\n"
     ]
    }
   ],
   "source": [
    "drunkTest((10, 100, 1000, 10000), 100, MasochistDrunk)"
   ]
  },
  {
   "cell_type": "code",
   "execution_count": 17,
   "metadata": {},
   "outputs": [],
   "source": [
    "def simDrunk(numTrials, dClass, walkLengths):\n",
    "    meanDistances = []\n",
    "    for numSteps in walkLengths:\n",
    "        print('Starting simulation of',\n",
    "              numSteps, 'steps')\n",
    "        trials = simWalks(numSteps, numTrials, dClass)\n",
    "        mean = sum(trials)/len(trials)\n",
    "        meanDistances.append(mean)\n",
    "    return meanDistances"
   ]
  },
  {
   "cell_type": "code",
   "execution_count": 18,
   "metadata": {},
   "outputs": [],
   "source": [
    "def simAll(drunkKinds, walkLengths, numTrials):\n",
    "    styleChoice = styleIterator(('m-', 'b--', 'g-.'))\n",
    "    for dClass in drunkKinds:\n",
    "        curStyle = styleChoice.nextStyle()\n",
    "        print('Starting simulation of', dClass.__name__)\n",
    "        means = simDrunk(numTrials, dClass, walkLengths)\n",
    "        plt.plot(walkLengths, means, curStyle,\n",
    "                   label = dClass.__name__)\n",
    "    plt.title('Mean Distance from Origin ('\n",
    "                + str(numTrials) + ' trials)')\n",
    "    plt.xlabel('Number of Steps')\n",
    "    plt.ylabel('Distance from Origin')\n",
    "    plt.legend(loc = 'best')\n"
   ]
  },
  {
   "cell_type": "code",
   "execution_count": 19,
   "metadata": {},
   "outputs": [
    {
     "name": "stdout",
     "output_type": "stream",
     "text": [
      "Starting simulation of UsualDrunk\n",
      "Starting simulation of 10 steps\n",
      "Starting simulation of 100 steps\n",
      "Starting simulation of 1000 steps\n",
      "Starting simulation of 10000 steps\n",
      "Starting simulation of 100000 steps\n",
      "Starting simulation of MasochistDrunk\n",
      "Starting simulation of 10 steps\n",
      "Starting simulation of 100 steps\n",
      "Starting simulation of 1000 steps\n",
      "Starting simulation of 10000 steps\n",
      "Starting simulation of 100000 steps\n"
     ]
    },
    {
     "data": {
      "text/plain": [
       "<matplotlib.legend.Legend at 0x11274f3c8>"
      ]
     },
     "execution_count": 19,
     "metadata": {},
     "output_type": "execute_result"
    },
    {
     "data": {
      "image/png": "[encoded data removed]",
      "text/plain": [
       "<matplotlib.figure.Figure at 0x1124ae240>"
      ]
     },
     "metadata": {},
     "output_type": "display_data"
    }
   ],
   "source": [
    "numSteps = (10,100,1000,10000,100000)\n",
    "simAll((UsualDrunk, MasochistDrunk), numSteps, 100)\n",
    "\n",
    "plt.plot(numSteps, np.array(numSteps)**0.5, 'k-.',\n",
    "          label = 'Square root of steps')\n",
    "plt.plot(numSteps, np.array(numSteps)*0.05, 'g-.',\n",
    "          label = 'numSteps*0.05')\n",
    "plt.legend(loc = 'best')"
   ]
  },
  {
   "cell_type": "code",
   "execution_count": 20,
   "metadata": {},
   "outputs": [],
   "source": [
    "class OddField(Field):\n",
    "    def __init__(self, numHoles = 1000,\n",
    "                 xRange = 100, yRange = 100):\n",
    "        Field.__init__(self)\n",
    "        self.wormholes = {}\n",
    "        for w in range(numHoles):\n",
    "            x = random.randint(-xRange, xRange)\n",
    "            y = random.randint(-yRange, yRange)\n",
    "            newX = random.randint(-xRange, xRange)\n",
    "            newY = random.randint(-yRange, yRange)\n",
    "            newLoc = Location(newX, newY)\n",
    "            self.wormholes[(x, y)] = newLoc\n",
    "\n",
    "    def moveDrunk(self, drunk):\n",
    "        Field.moveDrunk(self, drunk)\n",
    "        x = self.drunks[drunk].getX()\n",
    "        y = self.drunks[drunk].getY()\n",
    "        if (x, y) in self.wormholes:\n",
    "            self.drunks[drunk] = self.wormholes[(x, y)]"
   ]
  },
  {
   "cell_type": "code",
   "execution_count": 21,
   "metadata": {},
   "outputs": [],
   "source": [
    "def getFinalLocs(numSteps, numTrials, dClass):\n",
    "    locs = []\n",
    "    d = dClass()\n",
    "    for t in range(numTrials):\n",
    "        f = OddField()\n",
    "        f.addDrunk(d, Location(0, 0))\n",
    "        for s in range(numSteps):\n",
    "            f.moveDrunk(d)\n",
    "        locs.append(f.getLoc(d))\n",
    "    return locs\n",
    "\n",
    "def plotLocs(drunkKinds, numSteps, numTrials):\n",
    "    styleChoice = styleIterator(('k+', 'r^', 'mo'))\n",
    "    for dClass in drunkKinds:\n",
    "        locs = getFinalLocs(numSteps, numTrials, dClass)\n",
    "        xVals, yVals = [], []\n",
    "        for loc in locs:\n",
    "            xVals.append(loc.getX())\n",
    "            yVals.append(loc.getY())\n",
    "        xVals = np.array(xVals)\n",
    "        yVals = np.array(yVals)\n",
    "        meanX = sum(abs(xVals))/len(xVals)\n",
    "        meanY = sum(abs(yVals))/len(yVals)\n",
    "        curStyle = styleChoice.nextStyle()\n",
    "        plt.plot(xVals, yVals, curStyle,\n",
    "                      label = dClass.__name__ +\n",
    "                      ' mean abs dist = <'\n",
    "                      + str(meanX) + ', ' + str(meanY) + '>')\n",
    "    plt.title('Location at End of Walks ('\n",
    "                + str(numSteps) + ' steps)')\n",
    "    plt.ylim(-1000, 1000)\n",
    "    plt.xlim(-1000, 1000)\n",
    "    plt.xlabel('Steps East/West of Origin')\n",
    "    plt.ylabel('Steps North/South of Origin')\n",
    "    plt.legend(loc = 'lower center')"
   ]
  },
  {
   "cell_type": "code",
   "execution_count": 22,
   "metadata": {},
   "outputs": [
    {
     "data": {
      "image/png": "[encoded data removed]",
      "text/plain": [
       "<matplotlib.figure.Figure at 0x1128ea748>"
      ]
     },
     "metadata": {},
     "output_type": "display_data"
    }
   ],
   "source": [
    "plotLocs((UsualDrunk, MasochistDrunk), 10000, 1000)"
   ]
  },
  {
   "cell_type": "markdown",
   "metadata": {},
   "source": [
    "# Monte Carlo Simulation\n",
    "\n",
    "a random sample tends to exhibit the same properties as the population from which it is drawn\n",
    "\n",
    "Fair roulette: expected return is 0"
   ]
  },
  {
   "cell_type": "code",
   "execution_count": 23,
   "metadata": {},
   "outputs": [],
   "source": [
    "class FairRoulette():\n",
    "    def __init__(self):\n",
    "        self.pockets = []\n",
    "        for i in range(1,37):\n",
    "            self.pockets.append(i)\n",
    "        self.ball = None\n",
    "        self.pocketOdds = len(self.pockets) - 1\n",
    "    def spin(self):\n",
    "        self.ball = random.choice(self.pockets)\n",
    "    def betPocket(self, pocket, amt):\n",
    "        if str(pocket) == str(self.ball):\n",
    "            return amt*self.pocketOdds # make the roulette fair\n",
    "        else: return -amt\n",
    "    def __str__(self):\n",
    "        return 'Fair Roulette'"
   ]
  },
  {
   "cell_type": "code",
   "execution_count": 24,
   "metadata": {},
   "outputs": [],
   "source": [
    "def playRoulette(game, numSpins, pocket, bet, toPrint):\n",
    "    totPocket = 0\n",
    "    for i in range(numSpins):\n",
    "        game.spin()\n",
    "        totPocket += game.betPocket(pocket, bet)\n",
    "    if toPrint:\n",
    "        print(numSpins, 'spins of', game)\n",
    "        print('Expected return betting', pocket, '=',\\\n",
    "              str(100*totPocket/numSpins) + '%\\n')\n",
    "    return (totPocket/numSpins)"
   ]
  },
  {
   "cell_type": "code",
   "execution_count": 25,
   "metadata": {},
   "outputs": [
    {
     "name": "stdout",
     "output_type": "stream",
     "text": [
      "100 spins of Fair Roulette\n",
      "Expected return betting 2 = -28.0%\n",
      "\n",
      "100 spins of Fair Roulette\n",
      "Expected return betting 2 = -28.0%\n",
      "\n",
      "100 spins of Fair Roulette\n",
      "Expected return betting 2 = 80.0%\n",
      "\n",
      "1000000 spins of Fair Roulette\n",
      "Expected return betting 2 = -0.4384%\n",
      "\n",
      "1000000 spins of Fair Roulette\n",
      "Expected return betting 2 = 0.2096%\n",
      "\n",
      "1000000 spins of Fair Roulette\n",
      "Expected return betting 2 = 0.3284%\n",
      "\n"
     ]
    }
   ],
   "source": [
    "game = FairRoulette()\n",
    "for numSpins in (100, 1000000):\n",
    "    for i in range(3):\n",
    "        playRoulette(game, numSpins, 2, 1, True)"
   ]
  },
  {
   "cell_type": "markdown",
   "metadata": {},
   "source": [
    "### Law of large numbers\n",
    "\n",
    "as the number of identical independent test (iid) goes to infinity the average results converge to the expected value."
   ]
  },
  {
   "cell_type": "markdown",
   "metadata": {},
   "source": [
    "### unfair roulette\n",
    "<img src='https://www.roulettephysics.com/wp-content/uploads/2015/12/roulette-wheel-diagram1.png'>"
   ]
  },
  {
   "cell_type": "code",
   "execution_count": 26,
   "metadata": {},
   "outputs": [],
   "source": [
    "class EuRoulette(FairRoulette):\n",
    "    def __init__(self):\n",
    "        FairRoulette.__init__(self)\n",
    "        self.pockets.append('0')\n",
    "    def __str__(self):\n",
    "        return 'European Roulette'\n",
    "\n",
    "class AmRoulette(EuRoulette):\n",
    "    def __init__(self):\n",
    "        EuRoulette.__init__(self)\n",
    "        self.pockets.append('00')\n",
    "    def __str__(self):\n",
    "        return 'American Roulette'"
   ]
  },
  {
   "cell_type": "code",
   "execution_count": 27,
   "metadata": {},
   "outputs": [],
   "source": [
    "def findPocketReturn(game, numTrials, trialSize, toPrint):\n",
    "    pocketReturns = []\n",
    "    for t in range(numTrials):\n",
    "        trialVals = playRoulette(game, trialSize, 2, 1, toPrint)\n",
    "        pocketReturns.append(trialVals)\n",
    "    return pocketReturns"
   ]
  },
  {
   "cell_type": "code",
   "execution_count": 28,
   "metadata": {},
   "outputs": [
    {
     "name": "stdout",
     "output_type": "stream",
     "text": [
      "\n",
      "Simulate 20 trials of 1000 spins each\n",
      "Exp. return for Fair Roulette = 2.96%\n",
      "Exp. return for European Roulette = -4.6%\n",
      "Exp. return for American Roulette = -9.46%\n",
      "\n",
      "Simulate 20 trials of 10000 spins each\n",
      "Exp. return for Fair Roulette = -1.18%\n",
      "Exp. return for European Roulette = -1.468%\n",
      "Exp. return for American Roulette = -4.816%\n",
      "\n",
      "Simulate 20 trials of 100000 spins each\n",
      "Exp. return for Fair Roulette = -0.0136%\n",
      "Exp. return for European Roulette = -2.8108%\n",
      "Exp. return for American Roulette = -5.7682%\n",
      "\n",
      "Simulate 20 trials of 1000000 spins each\n",
      "Exp. return for Fair Roulette = 0.0035%\n",
      "Exp. return for European Roulette = -2.5228%\n",
      "Exp. return for American Roulette = -5.1747%\n"
     ]
    }
   ],
   "source": [
    "numTrials = 20\n",
    "resultDict = {}\n",
    "games = (FairRoulette, EuRoulette, AmRoulette)\n",
    "for G in games:\n",
    "    resultDict[G().__str__()] = []\n",
    "for numSpins in (1000, 10000, 100000, 1000000):\n",
    "    print('\\nSimulate', numTrials, 'trials of',\n",
    "          numSpins, 'spins each')\n",
    "    for G in games:\n",
    "        pocketReturns = findPocketReturn(G(), numTrials,\n",
    "                                         numSpins, False)\n",
    "        expReturn = 100*sum(pocketReturns)/len(pocketReturns)\n",
    "        print('Exp. return for', G(), '=',\n",
    "             str(round(expReturn, 4)) + '%')"
   ]
  },
  {
   "cell_type": "markdown",
   "metadata": {},
   "source": [
    "# Markov Chains Monte Carlo \n",
    "Markov Chains: past and fufure are conditionally independent given the present\n",
    "\n",
    "$P(X_{n+1} = j \\mid X_n = i, X_{n-1} = i_{n-1}, X_{n-2} = i_{n-2}, ...)\n",
    "=P(X_{n+1} = j \\mid X_n = i)$\n"
   ]
  },
  {
   "cell_type": "code",
   "execution_count": 8,
   "metadata": {},
   "outputs": [
    {
     "data": {
      "text/plain": [
       "Text(0,0.5,'Probability')"
      ]
     },
     "execution_count": 8,
     "metadata": {},
     "output_type": "execute_result"
    },
    {
     "data": {
      "image/png": "[encoded data removed]",
      "text/plain": [
       "<matplotlib.figure.Figure at 0x113ce92e8>"
      ]
     },
     "metadata": {},
     "output_type": "display_data"
    }
   ],
   "source": [
    "# transition matrix \n",
    "\n",
    "P = np.matrix([[0.6, 0.4],\n",
    "               [0.2, 0.8],])\n",
    "p0 = np.matrix([[1, 0]])\n",
    "\n",
    "plot_data = []\n",
    "for step in range(20):\n",
    "    result = p0*P**step\n",
    "    plot_data.append(np.array(result).flatten())\n",
    "    \n",
    "plot_data = np.array(plot_data)\n",
    "\n",
    "lines = []\n",
    "\n",
    "for i, shape in zip(range(2), ['x', 'h']):\n",
    "    line, = plt.plot(plot_data[:, i], shape, label=\"S%i\" % (i+1))\n",
    "    lines.append(line)\n",
    "plt.legend(handles=lines, loc=1)\n",
    "plt.xlabel('Steps')\n",
    "plt.ylabel('Probability')"
   ]
  },
  {
   "cell_type": "code",
   "execution_count": null,
   "metadata": {},
   "outputs": [],
   "source": []
  }
 ],
 "metadata": {
  "kernelspec": {
   "display_name": "Python 3",
   "language": "python",
   "name": "python3"
  },
  "language_info": {
   "codemirror_mode": {
    "name": "ipython",
    "version": 3
   },
   "file_extension": ".py",
   "mimetype": "text/x-python",
   "name": "python",
   "nbconvert_exporter": "python",
   "pygments_lexer": "ipython3",
   "version": "3.6.1"
  }
 },
 "nbformat": 4,
 "nbformat_minor": 2
}
